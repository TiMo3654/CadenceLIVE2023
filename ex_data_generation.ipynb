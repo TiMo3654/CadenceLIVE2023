{
 "cells": [
  {
   "cell_type": "markdown",
   "metadata": {},
   "source": [
    "## Example: Data set generation via CADENCE SPECTRE"
   ]
  },
  {
   "cell_type": "code",
   "execution_count": 1,
   "metadata": {},
   "outputs": [],
   "source": [
    "import pandas as pd\n",
    "import numpy as np\n",
    "import serafin as sf\n",
    "import pyspectre as ps\n",
    "\n",
    "from scipy.stats import qmc\n",
    "from functools import partial\n",
    "from concurrent.futures import ThreadPoolExecutor"
   ]
  },
  {
   "cell_type": "markdown",
   "metadata": {},
   "source": [
    "#### Create design space sample structure via a SOBOL sequence"
   ]
  },
  {
   "cell_type": "code",
   "execution_count": 2,
   "metadata": {},
   "outputs": [
    {
     "data": {
      "text/plain": [
       "(256, 8)"
      ]
     },
     "execution_count": 2,
     "metadata": {},
     "output_type": "execute_result"
    }
   ],
   "source": [
    "expo        = 8\n",
    "\n",
    "sampler     = qmc.Sobol(d=8, scramble=False)\n",
    "\n",
    "sample      = sampler.random_base2(m=expo)\n",
    "\n",
    "l_bounds    = [20e-6, 90e-9, 20e-6, 90e-9, 20e-6, 90e-9, 20e-6, 90e-9]\n",
    "u_bounds    = [50e-6, 10e-6, 50e-6, 10e-6, 50e-6, 10e-6, 50e-6, 10e-6]\n",
    "\n",
    "sample      = qmc.scale(sample, l_bounds, u_bounds)\n",
    "\n",
    "sample.shape"
   ]
  },
  {
   "cell_type": "markdown",
   "metadata": {},
   "source": [
    "#### Generate random multipliers"
   ]
  },
  {
   "cell_type": "code",
   "execution_count": 3,
   "metadata": {},
   "outputs": [],
   "source": [
    "a       = np.random.choice(5, 2**expo) + 1\n",
    "\n",
    "b       = np.random.choice(9, 2**expo) + 2\n",
    "\n",
    "col     = ['M']\n",
    "\n",
    "dfm1    = pd.DataFrame(data = a, columns = col)\n",
    "\n",
    "dfm2    = pd.DataFrame(data = b, columns = col)"
   ]
  },
  {
   "cell_type": "markdown",
   "metadata": {},
   "source": [
    "#### Concatenate the sizings dataframe"
   ]
  },
  {
   "cell_type": "code",
   "execution_count": 4,
   "metadata": {},
   "outputs": [
    {
     "data": {
      "text/html": [
       "<div>\n",
       "<style scoped>\n",
       "    .dataframe tbody tr th:only-of-type {\n",
       "        vertical-align: middle;\n",
       "    }\n",
       "\n",
       "    .dataframe tbody tr th {\n",
       "        vertical-align: top;\n",
       "    }\n",
       "\n",
       "    .dataframe thead th {\n",
       "        text-align: right;\n",
       "    }\n",
       "</style>\n",
       "<table border=\"1\" class=\"dataframe\">\n",
       "  <thead>\n",
       "    <tr style=\"text-align: right;\">\n",
       "      <th></th>\n",
       "      <th>Ldp1</th>\n",
       "      <th>Lcm1</th>\n",
       "      <th>Lcm2</th>\n",
       "      <th>Lcm3</th>\n",
       "      <th>Lcm4</th>\n",
       "      <th>Wdp1</th>\n",
       "      <th>Wcm1</th>\n",
       "      <th>Wcm2</th>\n",
       "      <th>Wcm3</th>\n",
       "      <th>Wcm4</th>\n",
       "      <th>Mdp11</th>\n",
       "      <th>Mdp12</th>\n",
       "      <th>Mcm11</th>\n",
       "      <th>Mcm12</th>\n",
       "      <th>Mcm21</th>\n",
       "      <th>Mcm22</th>\n",
       "      <th>Mcm31</th>\n",
       "      <th>Mcm32</th>\n",
       "      <th>Mcm41</th>\n",
       "      <th>Mcm42</th>\n",
       "    </tr>\n",
       "  </thead>\n",
       "  <tbody>\n",
       "    <tr>\n",
       "      <th>0</th>\n",
       "      <td>9.000000e-08</td>\n",
       "      <td>9.000000e-08</td>\n",
       "      <td>9.000000e-08</td>\n",
       "      <td>9.000000e-08</td>\n",
       "      <td>9.000000e-08</td>\n",
       "      <td>0.000020</td>\n",
       "      <td>0.000020</td>\n",
       "      <td>0.000020</td>\n",
       "      <td>0.000020</td>\n",
       "      <td>0.000020</td>\n",
       "      <td>2</td>\n",
       "      <td>2</td>\n",
       "      <td>1</td>\n",
       "      <td>5</td>\n",
       "      <td>1</td>\n",
       "      <td>5</td>\n",
       "      <td>1</td>\n",
       "      <td>5</td>\n",
       "      <td>2</td>\n",
       "      <td>2</td>\n",
       "    </tr>\n",
       "    <tr>\n",
       "      <th>1</th>\n",
       "      <td>5.045000e-06</td>\n",
       "      <td>5.045000e-06</td>\n",
       "      <td>5.045000e-06</td>\n",
       "      <td>5.045000e-06</td>\n",
       "      <td>5.045000e-06</td>\n",
       "      <td>0.000035</td>\n",
       "      <td>0.000035</td>\n",
       "      <td>0.000035</td>\n",
       "      <td>0.000035</td>\n",
       "      <td>0.000035</td>\n",
       "      <td>2</td>\n",
       "      <td>2</td>\n",
       "      <td>1</td>\n",
       "      <td>5</td>\n",
       "      <td>1</td>\n",
       "      <td>8</td>\n",
       "      <td>1</td>\n",
       "      <td>8</td>\n",
       "      <td>2</td>\n",
       "      <td>2</td>\n",
       "    </tr>\n",
       "    <tr>\n",
       "      <th>2</th>\n",
       "      <td>7.522500e-06</td>\n",
       "      <td>2.567500e-06</td>\n",
       "      <td>2.567500e-06</td>\n",
       "      <td>2.567500e-06</td>\n",
       "      <td>7.522500e-06</td>\n",
       "      <td>0.000028</td>\n",
       "      <td>0.000043</td>\n",
       "      <td>0.000028</td>\n",
       "      <td>0.000028</td>\n",
       "      <td>0.000043</td>\n",
       "      <td>2</td>\n",
       "      <td>2</td>\n",
       "      <td>1</td>\n",
       "      <td>3</td>\n",
       "      <td>1</td>\n",
       "      <td>8</td>\n",
       "      <td>1</td>\n",
       "      <td>8</td>\n",
       "      <td>2</td>\n",
       "      <td>2</td>\n",
       "    </tr>\n",
       "    <tr>\n",
       "      <th>3</th>\n",
       "      <td>2.567500e-06</td>\n",
       "      <td>7.522500e-06</td>\n",
       "      <td>7.522500e-06</td>\n",
       "      <td>7.522500e-06</td>\n",
       "      <td>2.567500e-06</td>\n",
       "      <td>0.000043</td>\n",
       "      <td>0.000028</td>\n",
       "      <td>0.000043</td>\n",
       "      <td>0.000043</td>\n",
       "      <td>0.000028</td>\n",
       "      <td>2</td>\n",
       "      <td>2</td>\n",
       "      <td>1</td>\n",
       "      <td>2</td>\n",
       "      <td>1</td>\n",
       "      <td>6</td>\n",
       "      <td>1</td>\n",
       "      <td>6</td>\n",
       "      <td>2</td>\n",
       "      <td>2</td>\n",
       "    </tr>\n",
       "    <tr>\n",
       "      <th>4</th>\n",
       "      <td>8.761250e-06</td>\n",
       "      <td>3.806250e-06</td>\n",
       "      <td>8.761250e-06</td>\n",
       "      <td>8.761250e-06</td>\n",
       "      <td>1.328750e-06</td>\n",
       "      <td>0.000031</td>\n",
       "      <td>0.000031</td>\n",
       "      <td>0.000039</td>\n",
       "      <td>0.000039</td>\n",
       "      <td>0.000031</td>\n",
       "      <td>2</td>\n",
       "      <td>2</td>\n",
       "      <td>1</td>\n",
       "      <td>5</td>\n",
       "      <td>1</td>\n",
       "      <td>7</td>\n",
       "      <td>1</td>\n",
       "      <td>7</td>\n",
       "      <td>2</td>\n",
       "      <td>2</td>\n",
       "    </tr>\n",
       "  </tbody>\n",
       "</table>\n",
       "</div>"
      ],
      "text/plain": [
       "           Ldp1          Lcm1          Lcm2          Lcm3          Lcm4  \\\n",
       "0  9.000000e-08  9.000000e-08  9.000000e-08  9.000000e-08  9.000000e-08   \n",
       "1  5.045000e-06  5.045000e-06  5.045000e-06  5.045000e-06  5.045000e-06   \n",
       "2  7.522500e-06  2.567500e-06  2.567500e-06  2.567500e-06  7.522500e-06   \n",
       "3  2.567500e-06  7.522500e-06  7.522500e-06  7.522500e-06  2.567500e-06   \n",
       "4  8.761250e-06  3.806250e-06  8.761250e-06  8.761250e-06  1.328750e-06   \n",
       "\n",
       "       Wdp1      Wcm1      Wcm2      Wcm3      Wcm4  Mdp11  Mdp12  Mcm11  \\\n",
       "0  0.000020  0.000020  0.000020  0.000020  0.000020      2      2      1   \n",
       "1  0.000035  0.000035  0.000035  0.000035  0.000035      2      2      1   \n",
       "2  0.000028  0.000043  0.000028  0.000028  0.000043      2      2      1   \n",
       "3  0.000043  0.000028  0.000043  0.000043  0.000028      2      2      1   \n",
       "4  0.000031  0.000031  0.000039  0.000039  0.000031      2      2      1   \n",
       "\n",
       "   Mcm12  Mcm21  Mcm22  Mcm31  Mcm32  Mcm41  Mcm42  \n",
       "0      5      1      5      1      5      2      2  \n",
       "1      5      1      8      1      8      2      2  \n",
       "2      3      1      8      1      8      2      2  \n",
       "3      2      1      6      1      6      2      2  \n",
       "4      5      1      7      1      7      2      2  "
      ]
     },
     "execution_count": 4,
     "metadata": {},
     "output_type": "execute_result"
    }
   ],
   "source": [
    "cols        = ['Wcm1', 'Lcm1', 'Wcm2', 'Lcm2', 'Wcm4', 'Lcm4', 'Wdp1', 'Ldp1']\n",
    "df          = pd.DataFrame(data = sample, columns = cols)\n",
    "\n",
    "df['Wcm3']  = df['Wcm2'].values\n",
    "df['Lcm3']  = df['Lcm2'].values\n",
    "df['Mdp11'] = 2\n",
    "df['Mdp12'] = 2\n",
    "df['Mcm11'] = 1\n",
    "df['Mcm12'] = dfm1.values\n",
    "df['Mcm21'] = 1\n",
    "df['Mcm22'] = dfm2.values\n",
    "df['Mcm31'] = 1\n",
    "df['Mcm32'] = dfm2.values\n",
    "df['Mcm41'] = 2\n",
    "df['Mcm42'] = 2\n",
    "\n",
    "cols        = ['Ldp1', 'Lcm1', 'Lcm2', 'Lcm3', 'Lcm4', 'Wdp1', 'Wcm1', 'Wcm2', 'Wcm3', 'Wcm4', 'Mdp11', 'Mdp12', 'Mcm11', 'Mcm12', 'Mcm21', 'Mcm22', 'Mcm31', 'Mcm32', 'Mcm41', 'Mcm42']\n",
    "\n",
    "df          = df[cols]\n",
    "\n",
    "dfs         = np.array_split(df, 4)\n",
    "\n",
    "df.head()"
   ]
  },
  {
   "cell_type": "markdown",
   "metadata": {},
   "source": [
    "#### Define functions for data generation"
   ]
  },
  {
   "cell_type": "code",
   "execution_count": 5,
   "metadata": {},
   "outputs": [],
   "source": [
    "pdk = '/home/moldenhauert/.circus/pdk/gpdk090.yml'\n",
    "ckt = '/home/moldenhauert/.circus/ckt/sym.yml'\n",
    "net = '/home/moldenhauert/.circus/pdk/gpdk090/sym.scs'\n",
    "\n",
    "num = 32\n",
    "\n",
    "def test_perf(op, sz):\n",
    "    prf  = sf.evaluate(op,sz)\n",
    "\n",
    "    return prf\n",
    "\n",
    "def test_perf_parallel(tpe, syms, szs):\n",
    "    pf = list(tpe.map(test_perf, syms, szs))\n",
    "    return pf\n",
    "\n",
    "def dataGen(k, df):\n",
    "    with ThreadPoolExecutor(max_workers = num) as tpe:\n",
    "        args  = zip(num * [pdk], num * [ckt], num * [net])\n",
    "        syms  = list(tpe.map(lambda a: sf.operational_amplifier(*a), args))\n",
    "\n",
    "    szs_list = np.array_split(df, len(df))\n",
    "\n",
    "    sizes_df = pd.DataFrame()\n",
    "    perfs_df = pd.DataFrame()\n",
    "\n",
    "    with ThreadPoolExecutor(max_workers = num) as tpe:\n",
    "\n",
    "        for i, chunk in enumerate([szs_list[i:i+num] for i in range(0,len(szs_list),num)]):\n",
    "                    \n",
    "            perfs = test_perf_parallel(tpe, syms, chunk)\n",
    "\n",
    "            sizes_df = pd.concat([sizes_df, pd.concat(chunk)])\n",
    "            perfs_df = pd.concat([perfs_df, pd.concat(perfs)])\n",
    "    \n",
    "    sizes_df = sizes_df.reset_index(drop=True)\n",
    "    perfs_df = perfs_df.reset_index(drop=True)\n",
    "\n",
    "    df1 = pd.concat([sizes_df, perfs_df], axis=1)\n",
    "\n",
    "    filename = 'sobol_sizing_geometrical_gpdk090_' + str(k) + '.csv'\n",
    "\n",
    "    df1.to_csv(filename, index = False)"
   ]
  },
  {
   "cell_type": "markdown",
   "metadata": {},
   "source": [
    "#### Generate the performance values chunkwise"
   ]
  },
  {
   "cell_type": "code",
   "execution_count": 6,
   "metadata": {},
   "outputs": [
    {
     "name": "stdout",
     "output_type": "stream",
     "text": [
      "Successfully generated chonk: 0\n",
      "Successfully generated chonk: 1\n",
      "Successfully generated chonk: 2\n",
      "Successfully generated chonk: 3\n"
     ]
    }
   ],
   "source": [
    "for i, chonk in enumerate(dfs):\n",
    "    dataGen(i, chonk)\n",
    "    print('Successfully generated chonk: ' + str(i))"
   ]
  }
 ],
 "metadata": {
  "kernelspec": {
   "display_name": "base",
   "language": "python",
   "name": "python3"
  },
  "language_info": {
   "codemirror_mode": {
    "name": "ipython",
    "version": 3
   },
   "file_extension": ".py",
   "mimetype": "text/x-python",
   "name": "python",
   "nbconvert_exporter": "python",
   "pygments_lexer": "ipython3",
   "version": "3.9.15"
  },
  "orig_nbformat": 4
 },
 "nbformat": 4,
 "nbformat_minor": 2
}
