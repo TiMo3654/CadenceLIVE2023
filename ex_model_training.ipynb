{
 "cells": [
  {
   "cell_type": "markdown",
   "metadata": {},
   "source": [
    "### Example: Training a neural network for circuit performance prediction"
   ]
  },
  {
   "cell_type": "code",
   "execution_count": null,
   "metadata": {},
   "outputs": [],
   "source": [
    "import matplotlib.pyplot as plt\n",
    "import numpy as np\n",
    "import pandas as pd\n",
    "import os\n",
    "from functools import partial\n",
    "\n",
    "import torch \n",
    "from torch import nn\n",
    "from torch.nn import functional as F\n",
    "from torch.utils.data import DataLoader\n",
    "from torch.utils.data.dataset import Dataset\n",
    "\n",
    "from torchmetrics import MeanAbsolutePercentageError"
   ]
  },
  {
   "cell_type": "markdown",
   "metadata": {},
   "source": [
    "#### Set computing device"
   ]
  },
  {
   "cell_type": "code",
   "execution_count": 2,
   "metadata": {},
   "outputs": [],
   "source": [
    "device      = 'cpu'\n",
    "\n",
    "if torch.cuda.is_available():\n",
    "    device  = 'cuda'"
   ]
  },
  {
   "cell_type": "markdown",
   "metadata": {},
   "source": [
    "#### Load a data set"
   ]
  },
  {
   "cell_type": "code",
   "execution_count": 4,
   "metadata": {},
   "outputs": [],
   "source": [
    "df = pd.read_csv('/home/moldenhauert/Documents/repo/PREDATOR/data/geometrical/V10/sym_amplifier_xt018_filtered_data_V10.csv')"
   ]
  },
  {
   "cell_type": "markdown",
   "metadata": {},
   "source": [
    "#### Define inputs and outputs"
   ]
  },
  {
   "cell_type": "code",
   "execution_count": 5,
   "metadata": {},
   "outputs": [],
   "source": [
    "geometricalDesignSpace  = ['Ldp1', 'Lcm1', 'Lcm2', 'Lcm4', 'Wdp1', 'Wcm1', 'Wcm2', 'Wcm4', 'Mcm12', 'Mcm22']\n",
    "\n",
    "outputSpace             = ['a_0', 'ugbw', 'pm', 'gm', 'cmrr', 'psrr_p', 'voff_stat', 'sr_r', 'sr_f', 'idd', 'area']\n",
    "\n",
    "\n",
    "ins                     = len(geometricalDesignSpace)\n",
    "outs                    = len(outputSpace)"
   ]
  },
  {
   "cell_type": "markdown",
   "metadata": {},
   "source": [
    "#### Define masks for data preparation"
   ]
  },
  {
   "cell_type": "code",
   "execution_count": 6,
   "metadata": {},
   "outputs": [],
   "source": [
    "inversionMaskI  = torch.tensor([False, False, False, False, False, False, False, False, False, False]).to(device)\n",
    "logMaskI        = torch.tensor([True, True, True, True, True, True, True, True, False, False]).to(device)\n",
    "\n",
    "edValues        = torch.tensor(df[geometricalDesignSpace].values, dtype = torch.float32).to(device)\n",
    "\n",
    "edValues[:, torch.logical_or(inversionMaskI, logMaskI)]   = torch.log10(torch.abs(edValues[:, torch.logical_or(inversionMaskI, logMaskI)]))\n",
    "\n",
    "inMaxs         = torch.max(edValues, dim = 0).values.to(device)\n",
    "inMins         = torch.min(edValues, dim = 0).values.to(device)\n",
    "\n",
    "edValuesScaled  = (edValues - inMins) / (inMaxs - inMins)"
   ]
  },
  {
   "cell_type": "code",
   "execution_count": 7,
   "metadata": {},
   "outputs": [],
   "source": [
    "inversionMaskO  = torch.tensor([False, False, False, True, False, False, False, False, True, False, False]).to(device)\n",
    "\n",
    "logMaskO        = torch.tensor([False, True, False, False, False, False, True, True, True, True, True]).to(device)\n",
    "\n",
    "outValues       = torch.tensor(df[outputSpace].values, dtype = torch.float32).to(device)\n",
    "\n",
    "outValuesOrigin = outValues.detach().clone()\n",
    "\n",
    "outValues[:, inversionMaskO] = torch.neg(outValues[:, inversionMaskO])\n",
    "\n",
    "outValues[:, logMaskO]   = torch.log10(outValues[:, logMaskO])\n",
    "\n",
    "outMaxs         = torch.max(outValues, dim = 0).values.to(device)\n",
    "outMins         = torch.min(outValues, dim = 0).values.to(device)\n",
    "\n",
    "outValuesScaled = (outValues - outMins) / (outMaxs - outMins)"
   ]
  },
  {
   "cell_type": "markdown",
   "metadata": {},
   "source": [
    "#### Set-up of the training procedure"
   ]
  },
  {
   "cell_type": "code",
   "execution_count": 8,
   "metadata": {},
   "outputs": [],
   "source": [
    "class Transformer(Dataset):\n",
    "\n",
    "    def __init__(self, features, targets):\n",
    "\n",
    "        self.x_train = features\n",
    "        self.y_train = targets\n",
    "\n",
    "    def __len__(self):\n",
    "        return len(self.y_train)\n",
    "\n",
    "    def __getitem__(self, idx):\n",
    "        return self.x_train[idx], self.y_train[idx]\n"
   ]
  },
  {
   "cell_type": "code",
   "execution_count": 9,
   "metadata": {},
   "outputs": [],
   "source": [
    "def load_data(features, targets):\n",
    "\n",
    "    ds = Transformer(features, targets)\n",
    "\n",
    "    trainSet, testSet = torch.utils.data.random_split(ds, [round(features.shape[0]*0.7), features.shape[0]-round(features.shape[0]*0.7)], generator=torch.Generator().manual_seed(42))\n",
    "\n",
    "    return trainSet, testSet"
   ]
  },
  {
   "cell_type": "code",
   "execution_count": 10,
   "metadata": {},
   "outputs": [],
   "source": [
    "trainSet, testSet = load_data(edValuesScaled, outValuesScaled) "
   ]
  },
  {
   "cell_type": "markdown",
   "metadata": {},
   "source": [
    "#### Define neural network architecture"
   ]
  },
  {
   "cell_type": "code",
   "execution_count": 11,
   "metadata": {},
   "outputs": [],
   "source": [
    "class Net(nn.Module):\n",
    "    def __init__(self) -> nn.Module:\n",
    "        super().__init__()\n",
    "\n",
    "        self.layer1 = nn.Linear(ins, 32)\n",
    "\n",
    "        self.layer2 = nn.Linear(32, 128)\n",
    "\n",
    "        self.layer3 = nn.Linear(128, 512)\n",
    "\n",
    "        self.layer4 = nn.Linear(512, 128)\n",
    "\n",
    "        self.layer5 = nn.Linear(128, 64)\n",
    "\n",
    "        self.layer6 = nn.Linear(64, 32)\n",
    "\n",
    "        self.layer7 = nn.Linear(32, outs)\n",
    "\n",
    "\n",
    "    def forward(self, x):\n",
    "\n",
    "        return self.layer7(F.relu(self.layer6(F.relu(self.layer5(F.relu(self.layer4(F.relu(self.layer3(F.relu(self.layer2(F.relu(self.layer1(x)))))))))))))"
   ]
  },
  {
   "cell_type": "markdown",
   "metadata": {},
   "source": [
    "#### Prepare data sets"
   ]
  },
  {
   "cell_type": "code",
   "execution_count": 12,
   "metadata": {},
   "outputs": [],
   "source": [
    "testAbs                 = int(len(trainSet)*0.8)\n",
    "trainSubset, valSubset  = torch.utils.data.random_split(trainSet, [testAbs, len(trainSet) - testAbs])\n",
    "\n",
    "trainLoader             = DataLoader(trainSubset, batch_size = 8, shuffle = True)\n",
    "\n",
    "valLoader               = DataLoader(valSubset, batch_size = 8, shuffle = True)"
   ]
  },
  {
   "cell_type": "markdown",
   "metadata": {},
   "source": [
    "#### Training procedure"
   ]
  },
  {
   "cell_type": "code",
   "execution_count": 13,
   "metadata": {},
   "outputs": [
    {
     "name": "stdout",
     "output_type": "stream",
     "text": [
      "New best trained Model in epoch 0\n",
      "0.0732802023118046\n",
      "Finished epoch: 0\n",
      "New best trained Model in epoch 1\n",
      "0.052719693041756076\n",
      "Finished epoch: 1\n",
      "New best trained Model in epoch 2\n",
      "0.03934018383149426\n",
      "Finished epoch: 2\n",
      "New best trained Model in epoch 3\n",
      "0.03613295608087013\n",
      "Finished epoch: 3\n",
      "New best trained Model in epoch 4\n",
      "0.03587192390382691\n",
      "Finished epoch: 4\n",
      "New best trained Model in epoch 5\n",
      "0.03259658776297282\n",
      "Finished epoch: 5\n",
      "Finished epoch: 6\n",
      "New best trained Model in epoch 7\n",
      "0.02702786863630586\n",
      "Finished epoch: 7\n",
      "New best trained Model in epoch 8\n",
      "0.026021188886806525\n",
      "Finished epoch: 8\n",
      "New best trained Model in epoch 9\n",
      "0.024524219360589766\n",
      "Finished epoch: 9\n",
      "Finished epoch: 10\n",
      "New best trained Model in epoch 11\n",
      "0.02353835262980198\n",
      "Finished epoch: 11\n",
      "Finished epoch: 12\n",
      "New best trained Model in epoch 13\n",
      "0.023087720460604748\n",
      "Finished epoch: 13\n",
      "New best trained Model in epoch 14\n",
      "0.015539855304172234\n",
      "Finished epoch: 14\n",
      "Finished epoch: 15\n",
      "New best trained Model in epoch 16\n",
      "0.015135952022697487\n",
      "Finished epoch: 16\n",
      "New best trained Model in epoch 17\n",
      "0.013332867869050117\n",
      "Finished epoch: 17\n",
      "Finished epoch: 18\n",
      "Finished epoch: 19\n",
      "New best trained Model in epoch 20\n",
      "0.012096314865611467\n",
      "Finished epoch: 20\n",
      "Finished epoch: 21\n",
      "Finished epoch: 22\n",
      "Finished epoch: 23\n",
      "Finished epoch: 24\n",
      "New best trained Model in epoch 25\n",
      "0.011526178560393712\n",
      "Finished epoch: 25\n",
      "Finished epoch: 26\n",
      "Finished epoch: 27\n",
      "Finished epoch: 28\n",
      "Finished epoch: 29\n",
      "Finished epoch: 30\n",
      "Finished epoch: 31\n",
      "Finished epoch: 32\n",
      "Finished epoch: 33\n",
      "Finished epoch: 34\n",
      "Finished epoch: 35\n",
      "Finished epoch: 36\n",
      "Finished epoch: 37\n",
      "Finished epoch: 38\n",
      "Finished epoch: 39\n",
      "Finished epoch: 40\n",
      "Finished epoch: 41\n",
      "Finished epoch: 42\n",
      "Finished epoch: 43\n",
      "Finished epoch: 44\n",
      "Finished epoch: 45\n",
      "Finished epoch: 46\n",
      "New best trained Model in epoch 47\n",
      "0.011330613289507947\n",
      "Finished epoch: 47\n",
      "Finished epoch: 48\n",
      "New best trained Model in epoch 49\n",
      "0.011117060179277442\n",
      "Finished epoch: 49\n"
     ]
    }
   ],
   "source": [
    "# Initialize the neural net\n",
    "net = Net()\n",
    "\n",
    "net.to(device)\n",
    "\n",
    "mape = MeanAbsolutePercentageError().to(device)\n",
    "\n",
    "mapeMin = float('inf')\n",
    "\n",
    "valLossList = []\n",
    "  \n",
    "# Define the loss function and optimizer\n",
    "criterion = F.l1_loss\n",
    "\n",
    "optimizer = torch.optim.Adam(net.parameters(), lr=0.00014)\n",
    "\n",
    "for k, epoch in enumerate(range(50)):\n",
    "\n",
    "    for data in trainLoader:\n",
    "        inputs, targets = data\n",
    "        targets = targets.reshape((targets.shape[0], outs))\n",
    "        inputs, targets = inputs.to(device), targets.to(device)\n",
    "\n",
    "        optimizer.zero_grad()\n",
    "\n",
    "        outputs = net(inputs)\n",
    "        loss = criterion(outputs, targets)\n",
    "        loss.backward()\n",
    "        optimizer.step()\n",
    "\n",
    "\n",
    "    # validation\n",
    "    valLoss = 0.0\n",
    "    mapeSum = 0\n",
    "\n",
    "\n",
    "    for data in valLoader:\n",
    "        with torch.no_grad():\n",
    "            inputs, targets = data\n",
    "            targets = targets.reshape((targets.shape[0], outs))\n",
    "            inputs, targets = inputs.to(device), targets.to(device)\n",
    "            outputs = net(inputs)\n",
    "\n",
    "            loss = criterion(outputs, targets)\n",
    "            valLoss += loss.item()\n",
    "\n",
    "            # Accuracy\n",
    "            outputsScaled = outputs * (outMaxs - outMins) + outMins \n",
    "            outputsScaled[:, logMaskO] = torch.pow(10, outputsScaled[:, logMaskO])\n",
    "            outputsScaled[:, inversionMaskO] = torch.neg(outputsScaled[:,inversionMaskO])\n",
    "\n",
    "            targetsScaled = targets * (outMaxs - outMins) + outMins \n",
    "            targetsScaled[:, logMaskO] = torch.pow(10, targetsScaled[:, logMaskO])\n",
    "            targetsScaled[:, inversionMaskO] = torch.neg(targetsScaled[:,inversionMaskO])\n",
    "\n",
    "            m = mape(outputsScaled, targetsScaled).item()\n",
    "\n",
    "            mapeSum += m\n",
    "\n",
    "    \n",
    "    valLossList.append(valLoss)\n",
    "    \n",
    "    mapeMean = mapeSum/len(valSubset)\n",
    "\n",
    "    if mapeMean < mapeMin:\n",
    "        bestTrainedModel = net\n",
    "        mapeMin = mapeMean\n",
    "        print('New best trained Model in epoch ' + str(k))\n",
    "        print(mapeMean)\n",
    "\n",
    "    print('Finished epoch: ' + str(k))\n"
   ]
  },
  {
   "cell_type": "markdown",
   "metadata": {},
   "source": [
    "#### Loss plot"
   ]
  },
  {
   "cell_type": "code",
   "execution_count": 14,
   "metadata": {},
   "outputs": [
    {
     "data": {
      "text/plain": [
       "Text(0, 0.5, 'Loss Value')"
      ]
     },
     "execution_count": 14,
     "metadata": {},
     "output_type": "execute_result"
    },
    {
     "data": {
      "image/png": "[encoded data removed]",
      "text/plain": [
       "<Figure size 640x480 with 1 Axes>"
      ]
     },
     "metadata": {},
     "output_type": "display_data"
    }
   ],
   "source": [
    "x       =  list(range(len(valLossList)))\n",
    "y       = valLossList\n",
    "\n",
    "fig, ax = plt.subplots()\n",
    "\n",
    "ax.plot(x, y)\n",
    "\n",
    "ax.set_xlabel('Iteration', fontsize = 14)\n",
    "ax.set_ylabel('Loss Value', fontsize = 14)"
   ]
  },
  {
   "cell_type": "markdown",
   "metadata": {},
   "source": [
    "#### Performance on test set"
   ]
  },
  {
   "cell_type": "code",
   "execution_count": 15,
   "metadata": {},
   "outputs": [
    {
     "name": "stdout",
     "output_type": "stream",
     "text": [
      "Mean MAPE: 0.010262778800219896\n"
     ]
    }
   ],
   "source": [
    "trainedModel = bestTrainedModel\n",
    "\n",
    "testLoader = torch.utils.data.DataLoader(testSet, batch_size=8, shuffle=False)\n",
    "\n",
    "mapeSum = 0\n",
    "\n",
    "with torch.no_grad():\n",
    "    for j, data in enumerate(testLoader):\n",
    "        inputs, targets = data\n",
    "        targets = targets.reshape((targets.shape[0], outs))\n",
    "        inputs, targets = inputs.to(device), targets.to(device)\n",
    "        outputs = trainedModel(inputs)\n",
    "\n",
    "        # Accuracy\n",
    "        outputsScaled = outputs * (outMaxs - outMins) + outMins \n",
    "        outputsScaled[:, logMaskO] = torch.pow(10, outputsScaled[:, logMaskO])\n",
    "        outputsScaled[:, inversionMaskO] = torch.neg(outputsScaled[:,inversionMaskO])\n",
    "\n",
    "        targetsScaled = targets * (outMaxs - outMins) + outMins \n",
    "        targetsScaled[:, logMaskO] = torch.pow(10, targetsScaled[:, logMaskO])\n",
    "        targetsScaled[:, inversionMaskO] = torch.neg(targetsScaled[:,inversionMaskO])\n",
    "\n",
    "        # print(outputsScaled[0])\n",
    "        # print(targetsScaled[0])\n",
    "\n",
    "        m = mape(outputsScaled, targetsScaled).item()\n",
    "\n",
    "        mapeSum += m\n",
    "\n",
    "meanMape = mapeSum/len(testSet)\n",
    "    \n",
    "print(\"Mean MAPE: \" + str(meanMape))"
   ]
  }
 ],
 "metadata": {
  "kernelspec": {
   "display_name": "base",
   "language": "python",
   "name": "python3"
  },
  "language_info": {
   "codemirror_mode": {
    "name": "ipython",
    "version": 3
   },
   "file_extension": ".py",
   "mimetype": "text/x-python",
   "name": "python",
   "nbconvert_exporter": "python",
   "pygments_lexer": "ipython3",
   "version": "3.9.15"
  },
  "orig_nbformat": 4
 },
 "nbformat": 4,
 "nbformat_minor": 2
}
